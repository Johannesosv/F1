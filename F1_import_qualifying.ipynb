{
 "cells": [
  {
   "cell_type": "code",
   "execution_count": 2,
   "metadata": {},
   "outputs": [],
   "source": [
    "import requests\n",
    "import pandas as pd\n",
    "import datetime"
   ]
  },
  {
   "cell_type": "code",
   "execution_count": 80,
   "metadata": {},
   "outputs": [],
   "source": [
    "#returns a list of dicts which are meant to be transformed to a dataframe\n",
    "def get_qualifying_results(season,round):\n",
    "    \n",
    "    qualifying_url= 'http://ergast.com/api/f1/'+season+'/'+round+'/qualifying.json'\n",
    "    r = requests.get(qualifying_url)\n",
    "    json=r.json()\n",
    "    MRData=json[\"MRData\"]\n",
    "    RaceTable = MRData[\"RaceTable\"]\n",
    "    try:\n",
    "        race = RaceTable[\"Races\"][0]\n",
    "    except:\n",
    "        return []\n",
    "\n",
    "    #Qualifying Round Details\n",
    "    round_season    = race[\"season\"]\n",
    "    round_round     = race[\"round\"]\n",
    "    round_circuit   = race[\"Circuit\"][\"circuitName\"]\n",
    "    round_date      = race[\"date\"]\n",
    "\n",
    "    #Qualifying Results\n",
    "    qualifying_results = race[\"QualifyingResults\"]\n",
    "    #print(\"Qualifying: \")\n",
    "    #print(qualifying_results[0].keys())\n",
    "\n",
    "    result_list = []\n",
    "    for q_result in range(len(qualifying_results)):\n",
    "        #Driver Details\n",
    "        driver = qualifying_results[q_result][\"Driver\"]\n",
    "        driver_name = driver[\"givenName\"] + \" \" + driver[\"familyName\"]\n",
    "        driver_nationality = driver[\"nationality\"]\n",
    "        driver_code = driver[\"code\"]\n",
    "        #Constructor Details\n",
    "        constructor = qualifying_results[q_result][\"Constructor\"]\n",
    "        constructor_name = constructor[\"name\"]\n",
    "\n",
    "        #Qualifying Details\n",
    "        Q1 = qualifying_results[q_result][\"Q1\"]\n",
    "        try:\n",
    "            Q2 = qualifying_results[q_result][\"Q2\"]\n",
    "        except:\n",
    "            Q2 = None\n",
    "        try:\n",
    "            Q3 = qualifying_results[q_result][\"Q3\"]\n",
    "        except:\n",
    "            Q3 = None\n",
    "        position = qualifying_results[q_result][\"position\"]\n",
    "        result_dict = {\"season\": round_season,\n",
    "                        \"round\": round_round,\n",
    "                        \"circuit\": round_circuit,\n",
    "                        \"date\": round_date,\n",
    "                        \"driver_name\": driver_name,\n",
    "                        \"driver_code\": driver_code,\n",
    "                        \"driver_nationality\": driver_nationality,\n",
    "                        \"constructor_name\": constructor_name,\n",
    "                        \"Q1\": Q1,\n",
    "                        \"Q2\": Q2,\n",
    "                        \"Q3\": Q3,\n",
    "                        \"position\": position}\n",
    "        result_list.append(result_dict)\n",
    "    return result_list"
   ]
  },
  {
   "attachments": {},
   "cell_type": "markdown",
   "metadata": {},
   "source": [
    "season =\"2023\"\n",
    "round = \"9\"\n",
    "qualifying_url= 'http://ergast.com/api/f1/'+season+'/'+round+'/qualifying.json'\n",
    "r = requests.get(qualifying_url)\n",
    "json=r.json()\n",
    "MRData=json[\"MRData\"]\n",
    "RaceTable = MRData[\"RaceTable\"]\n",
    "race = RaceTable[\"Races\"][0]\n",
    "qualifying_results = race[\"QualifyingResults\"]\n"
   ]
  },
  {
   "cell_type": "code",
   "execution_count": 82,
   "metadata": {},
   "outputs": [
    {
     "name": "stdout",
     "output_type": "stream",
     "text": [
      "getting data for season 2010. There are : 24 number of races.\n",
      "getting data for season 2011. There are : 24 number of races.\n",
      "getting data for season 2012. There are : 24 number of races.\n",
      "getting data for season 2013. There are : 22 number of races.\n",
      "getting data for season 2014. There are : 22 number of races.\n",
      "getting data for season 2015. There are : 18 number of races.\n",
      "getting data for season 2016. There are : 22 number of races.\n",
      "getting data for season 2017. There are : 20 number of races.\n",
      "getting data for season 2018. There are : 20 number of races.\n",
      "getting data for season 2019. There are : 20 number of races.\n",
      "getting data for season 2020. There are : 20 number of races.\n",
      "getting data for season 2021. There are : 20 number of races.\n",
      "getting data for season 2022. There are : 20 number of races.\n",
      "getting data for season 2023. There are : 20 number of races.\n"
     ]
    }
   ],
   "source": [
    "first_year = 2010\n",
    "last_year = 2023\n",
    "qualifying_list=[]\n",
    "\n",
    "\n",
    "for season in range(first_year,last_year+1):\n",
    "    season=str(season)\n",
    "    #get num races\n",
    "    qualifying_url= 'http://ergast.com/api/f1/'+season+'/1/qualifying.json'\n",
    "    r = requests.get(qualifying_url)\n",
    "    num_races=r.json()[\"MRData\"][\"total\"]\n",
    "    print(\"getting data for season \"+season+ \". There are : \"+num_races+ \" number of races.\")\n",
    "\n",
    "    for round in range(int(num_races)):\n",
    "        round=str(round+1)\n",
    "        #print(\"getting data for season \"+season+ \" and round: \"+round)\n",
    "        qualifying_list=qualifying_list+get_qualifying_results(season=season,round=round)\n"
   ]
  },
  {
   "cell_type": "code",
   "execution_count": 83,
   "metadata": {},
   "outputs": [],
   "source": [
    "#make list into df\n",
    "df = pd.DataFrame(qualifying_list)\n",
    "df[\"ReadInTime\"]=datetime.datetime.now()"
   ]
  },
  {
   "cell_type": "code",
   "execution_count": 86,
   "metadata": {},
   "outputs": [
    {
     "data": {
      "text/plain": [
       "-1"
      ]
     },
     "execution_count": 86,
     "metadata": {},
     "output_type": "execute_result"
    }
   ],
   "source": [
    "#read df into sql server database\n",
    "database=\"F1\"\n",
    "from sqlalchemy import create_engine\n",
    "engine = create_engine('mssql+pyodbc://localhost/'+database+'?driver=SQL+Server+Native+Client+11.0')\n",
    "df.to_sql('stg_qualifying', engine, if_exists=\"replace\", index=False)"
   ]
  },
  {
   "attachments": {},
   "cell_type": "markdown",
   "metadata": {},
   "source": [
    "#run proc in sql server\n",
    "import pyodbc\n",
    "conn = pyodbc.connect('Driver={SQL Server};'\n",
    "                        'Server=localhost;'\n",
    "                        'Database=SMHI;'\n",
    "                        'Trusted_Connection=yes;')\n",
    "\n",
    "cursor = conn.cursor()\n",
    "cursor.execute('Clean_Väder_DateTime')\n",
    "cursor.execute('Clean_Väder_Date')\n",
    "conn.commit()\n",
    "cursor.close()\n",
    "conn.close()\n"
   ]
  }
 ],
 "metadata": {
  "kernelspec": {
   "display_name": "Python 3",
   "language": "python",
   "name": "python3"
  },
  "language_info": {
   "codemirror_mode": {
    "name": "ipython",
    "version": 3
   },
   "file_extension": ".py",
   "mimetype": "text/x-python",
   "name": "python",
   "nbconvert_exporter": "python",
   "pygments_lexer": "ipython3",
   "version": "3.11.3"
  },
  "orig_nbformat": 4
 },
 "nbformat": 4,
 "nbformat_minor": 2
}
