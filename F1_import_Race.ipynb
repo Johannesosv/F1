{
 "cells": [
  {
   "cell_type": "code",
   "execution_count": 1,
   "metadata": {},
   "outputs": [],
   "source": [
    "import requests\n",
    "import pandas as pd\n",
    "import datetime"
   ]
  },
  {
   "cell_type": "code",
   "execution_count": 48,
   "metadata": {},
   "outputs": [],
   "source": [
    "#returns a list of dicts which are meant to be transformed to a dataframe\n",
    "def get_race_results(season,round):\n",
    "    race_url= 'http://ergast.com/api/f1/'+season+'/'+round+'/results.json'\n",
    "    r = requests.get(race_url)\n",
    "    json=r.json()\n",
    "    MRData=json[\"MRData\"]\n",
    "    RaceTable = MRData[\"RaceTable\"]\n",
    "    try:\n",
    "        race = RaceTable[\"Races\"][0]\n",
    "    except:\n",
    "        return []\n",
    "\n",
    "    #Round Details\n",
    "    round_season    = race[\"season\"]\n",
    "    round_round     = race[\"round\"]\n",
    "    round_circuit   = race[\"Circuit\"][\"circuitName\"]\n",
    "    round_date      = race[\"date\"]\n",
    "\n",
    "    #Results\n",
    "    results = race[\"Results\"]\n",
    "\n",
    "    result_list = []\n",
    "    for q_result in range(len(results)):\n",
    "        #Driver Details\n",
    "        driver = results[q_result][\"Driver\"]\n",
    "        driver_name = driver[\"givenName\"] + \" \" + driver[\"familyName\"]\n",
    "        driver_nationality = driver[\"nationality\"]\n",
    "        driver_code = driver[\"code\"]\n",
    "        #Constructor Details\n",
    "        constructor = results[q_result][\"Constructor\"]\n",
    "        constructor_name = constructor[\"name\"]\n",
    "\n",
    "        #Race Details\n",
    "        race_position = results[q_result][\"position\"]\n",
    "        race_points = results[q_result][\"points\"]\n",
    "        race_laps = results[q_result][\"laps\"]\n",
    "        try:\n",
    "            race_time = results[q_result][\"Time\"][\"millis\"]\n",
    "        except:\n",
    "            race_time = None\n",
    "        try:\n",
    "            race_fastest_lap_rank = results[q_result][\"FastestLap\"][\"rank\"]\n",
    "            race_fastest_lap_time = results[q_result][\"FastestLap\"][\"Time\"][\"time\"]\n",
    "            race_fastest_lap_AverageSpeed = results[q_result][\"FastestLap\"][\"AverageSpeed\"][\"speed\"]\n",
    "        except:\n",
    "            race_fastest_lap_rank = None\n",
    "            race_fastest_lap_time = None\n",
    "            race_fastest_lap_AverageSpeed = None\n",
    "\n",
    "\n",
    "        position = results[q_result][\"position\"]\n",
    "        result_dict = {\"season\": round_season,\n",
    "                        \"round\": round_round,\n",
    "                        \"circuit\": round_circuit,\n",
    "                        \"date\": round_date,\n",
    "                        \"driver_name\": driver_name,\n",
    "                        \"driver_code\": driver_code,\n",
    "                        \"driver_nationality\": driver_nationality,\n",
    "                        \"constructor_name\": constructor_name,\n",
    "                        \"race_position\": race_position,\n",
    "                        \"race_points\": race_points,\n",
    "                        \"race_laps\": race_laps,\n",
    "                        \"race_time\": race_time,\n",
    "                        \"race_fastest_lap_rank\": race_fastest_lap_rank,\n",
    "                        \"race_fastest_lap_time\": race_fastest_lap_time,\n",
    "                        \"race_fastest_lap_AverageSpeed\":race_fastest_lap_AverageSpeed\n",
    "                        }\n",
    "        result_list.append(result_dict)\n",
    "    return result_list"
   ]
  },
  {
   "cell_type": "code",
   "execution_count": null,
   "metadata": {},
   "outputs": [],
   "source": [
    "first_year = 2005\n",
    "last_year = 2023\n",
    "race_list=[]\n",
    "\n",
    "for season in range(first_year,last_year+1):\n",
    "    season=str(season)\n",
    "    #get num races\n",
    "    race_url= 'http://ergast.com/api/f1/'+season+'/1/qualifying.json'\n",
    "    r = requests.get(race_url)\n",
    "    num_races=r.json()[\"MRData\"][\"total\"]\n",
    "    print(\"getting data for season \"+season+ \". There are : \"+num_races+ \" number of races.\")\n",
    "\n",
    "    for round in range(int(num_races)):\n",
    "        round=str(round+1)\n",
    "        #print(\"getting data for season \"+season+ \" and round: \"+round)\n",
    "        race_list=race_list+get_race_results(season=season,round=round)\n",
    "print(\"done\")"
   ]
  },
  {
   "cell_type": "code",
   "execution_count": 59,
   "metadata": {},
   "outputs": [
    {
     "name": "stdout",
     "output_type": "stream",
     "text": [
      "(1854, 16)\n"
     ]
    }
   ],
   "source": [
    "#make list into df\n",
    "df = pd.DataFrame(race_list)\n",
    "df[\"ReadInTime\"]=datetime.datetime.now()\n",
    "print(df.shape)"
   ]
  },
  {
   "cell_type": "code",
   "execution_count": 60,
   "metadata": {},
   "outputs": [
    {
     "data": {
      "text/plain": [
       "-1"
      ]
     },
     "execution_count": 60,
     "metadata": {},
     "output_type": "execute_result"
    }
   ],
   "source": [
    "#read df into sql server database\n",
    "database=\"F1\"\n",
    "from sqlalchemy import create_engine\n",
    "engine = create_engine('mssql+pyodbc://localhost/'+database+'?driver=SQL+Server+Native+Client+11.0')\n",
    "df.to_sql('stg_race', engine, if_exists=\"append\", index=False)"
   ]
  }
 ],
 "metadata": {
  "kernelspec": {
   "display_name": "Python 3",
   "language": "python",
   "name": "python3"
  },
  "language_info": {
   "codemirror_mode": {
    "name": "ipython",
    "version": 3
   },
   "file_extension": ".py",
   "mimetype": "text/x-python",
   "name": "python",
   "nbconvert_exporter": "python",
   "pygments_lexer": "ipython3",
   "version": "3.11.3"
  },
  "orig_nbformat": 4
 },
 "nbformat": 4,
 "nbformat_minor": 2
}
